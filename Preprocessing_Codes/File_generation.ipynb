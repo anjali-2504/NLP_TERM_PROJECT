{
 "cells": [
  {
   "cell_type": "code",
   "execution_count": 1,
   "id": "2e116de3",
   "metadata": {},
   "outputs": [
    {
     "name": "stdout",
     "output_type": "stream",
     "text": [
      "1535\n",
      "328\n",
      "330\n"
     ]
    }
   ],
   "source": [
    "total = 2193 # total no of sentences\n",
    "train = int(0.70 * total)\n",
    "dev = int(0.15 * total) \n",
    "test = total - train -dev\n",
    "print(train)\n",
    "print(dev)\n",
    "print(test)"
   ]
  },
  {
   "cell_type": "code",
   "execution_count": 10,
   "id": "51368e41",
   "metadata": {},
   "outputs": [],
   "source": [
    "# creating train, dev and  \n",
    "with open('sent5.sent','r') as f1:\n",
    "    with open('pointer5.pointer','r') as f2:\n",
    "        sents = f1.readlines()\n",
    "        pointers = f2.readlines()\n",
    "        \n",
    "        with open('dev_bert.sent','w') as f3:\n",
    "            with open('dev_bert.pointer','w') as f4:\n",
    "                for i in range(dev):\n",
    "                    f3.write(sents[i+train])\n",
    "                    f4.write(pointers[i+train])\n",
    "        with open('test_bert.sent','w') as f3:\n",
    "            with open('test_bert.pointer','w') as f4:\n",
    "                for i in range(test):\n",
    "                    f3.write(sents[i+train+dev])\n",
    "                    f4.write(pointers[i+train+dev])\n",
    "        with open('train_bert.sent','w') as f3:\n",
    "            with open('train_bert.pointer','w') as f4:\n",
    "                for i in range(train):\n",
    "                    f3.write(sents[i])\n",
    "                    f4.write(pointers[i])\n",
    "        \n",
    "            \n",
    "        "
   ]
  },
  {
   "cell_type": "code",
   "execution_count": null,
   "id": "4253a1cd",
   "metadata": {},
   "outputs": [],
   "source": []
  }
 ],
 "metadata": {
  "kernelspec": {
   "display_name": "Python 3",
   "language": "python",
   "name": "python3"
  },
  "language_info": {
   "codemirror_mode": {
    "name": "ipython",
    "version": 3
   },
   "file_extension": ".py",
   "mimetype": "text/x-python",
   "name": "python",
   "nbconvert_exporter": "python",
   "pygments_lexer": "ipython3",
   "version": "3.8.8"
  }
 },
 "nbformat": 4,
 "nbformat_minor": 5
}
